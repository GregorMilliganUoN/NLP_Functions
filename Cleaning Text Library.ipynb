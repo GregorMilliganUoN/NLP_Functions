{
 "cells": [
  {
   "cell_type": "code",
   "execution_count": 15,
   "id": "f8b8fda0",
   "metadata": {},
   "outputs": [],
   "source": [
    "import spacy\n",
    "def clean_text_data(data):\n",
    "    \n",
    "    \n",
    "# Load the en_core_web_sm model\n",
    "    nlp = spacy.load(\"en_core_web_sm\")\n",
    "    stopwords = nlp.Defaults.stop_words\n",
    "# Create a Doc object\n",
    "    doc = nlp(data)\n",
    "\n",
    "# Generate the tokens\n",
    "    tokens = [token.text for token in doc]\n",
    "    lemmas = [token.lemma_ for token in doc]\n",
    "    # Remove stopwords and non-alphabetic tokens\n",
    "    stopwords = [lemma for lemma in lemmas \n",
    "            if lemma.isalpha() and lemma not in stopwords]\n",
    "    print(lemmas)"
   ]
  },
  {
   "cell_type": "code",
   "execution_count": 16,
   "id": "b406ef21",
   "metadata": {},
   "outputs": [
    {
     "data": {
      "text/plain": [
       "'What is a mushroom? Mushrooms are not plants! Recently it has been discovered that they are more closely related to animals. But at one time, Fungi, including mushrooms, were believed to be close relatives of plants so much of their nomenclature (names for parts of the mushroom) are close to the names used for plant parts. It is the fruit (like an apple) of the mushroom \"body\" and contain mushroom \"seeds\" called spores. The body of the mushroom in called mycelium and its individual parts are microscopic. Since the body of the mushroom is usually dispersed over a relatively large area it is rarely noticed. In nature some species of mushrooms may have a body that spreads over hundreds of square miles!'"
      ]
     },
     "execution_count": 16,
     "metadata": {},
     "output_type": "execute_result"
    }
   ],
   "source": [
    "f = open(\"/Users/gregormilligan/Desktop/NLP Projects/Academic Papers Readability Scores/ms.txt\", 'r')\n",
    "corpus = f.read()\n",
    "f.close\n",
    "corpus"
   ]
  },
  {
   "cell_type": "code",
   "execution_count": 17,
   "id": "00b68499",
   "metadata": {},
   "outputs": [
    {
     "name": "stdout",
     "output_type": "stream",
     "text": [
      "['what', 'be', 'a', 'mushroom', '?', 'mushroom', 'be', 'not', 'plant', '!', 'recently', 'it', 'have', 'be', 'discover', 'that', 'they', 'be', 'more', 'closely', 'related', 'to', 'animal', '.', 'but', 'at', 'one', 'time', ',', 'Fungi', ',', 'include', 'mushroom', ',', 'be', 'believe', 'to', 'be', 'close', 'relative', 'of', 'plant', 'so', 'much', 'of', 'their', 'nomenclature', '(', 'name', 'for', 'part', 'of', 'the', 'mushroom', ')', 'be', 'close', 'to', 'the', 'name', 'use', 'for', 'plant', 'part', '.', 'it', 'be', 'the', 'fruit', '(', 'like', 'an', 'apple', ')', 'of', 'the', 'mushroom', '\"', 'body', '\"', 'and', 'contain', 'mushroom', '\"', 'seed', '\"', 'call', 'spore', '.', 'the', 'body', 'of', 'the', 'mushroom', 'in', 'call', 'mycelium', 'and', 'its', 'individual', 'part', 'be', 'microscopic', '.', 'since', 'the', 'body', 'of', 'the', 'mushroom', 'be', 'usually', 'disperse', 'over', 'a', 'relatively', 'large', 'area', 'it', 'be', 'rarely', 'notice', '.', 'in', 'nature', 'some', 'specie', 'of', 'mushroom', 'may', 'have', 'a', 'body', 'that', 'spread', 'over', 'hundred', 'of', 'square', 'mile', '!']\n"
     ]
    }
   ],
   "source": [
    "clean_text_data(corpus)"
   ]
  },
  {
   "cell_type": "code",
   "execution_count": null,
   "id": "f6ab7cf8",
   "metadata": {},
   "outputs": [],
   "source": []
  }
 ],
 "metadata": {
  "kernelspec": {
   "display_name": "Python 3",
   "language": "python",
   "name": "python3"
  },
  "language_info": {
   "codemirror_mode": {
    "name": "ipython",
    "version": 3
   },
   "file_extension": ".py",
   "mimetype": "text/x-python",
   "name": "python",
   "nbconvert_exporter": "python",
   "pygments_lexer": "ipython3",
   "version": "3.9.11"
  }
 },
 "nbformat": 4,
 "nbformat_minor": 5
}
